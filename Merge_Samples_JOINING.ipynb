{
 "cells": [
  {
   "cell_type": "code",
   "execution_count": 1,
   "metadata": {},
   "outputs": [],
   "source": [
    "from pyspark.sql import SparkSession\n",
    "from pyspark import StorageLevel\n",
    "from pyspark.sql.functions import *\n",
    "from pyspark.sql.types import IntegerType , DoubleType , StringType , StructField , StructType , DecimalType\n",
    "from pyspark.ml.pipeline import Pipeline\n",
    "from pyspark.ml.feature import StandardScaler, VectorAssembler, Imputer, StringIndexer\n",
    "from pyspark.ml.classification import NaiveBayes ,DecisionTreeClassifier , LinearSVC , RandomForestClassifier\n",
    "from pyspark.ml.tuning import CrossValidator\n",
    "from pyspark.ml.tuning import ParamGridBuilder\n",
    "from pyspark.ml.evaluation import MulticlassClassificationEvaluator\n",
    "import pandas"
   ]
  },
  {
   "cell_type": "code",
   "execution_count": 2,
   "metadata": {},
   "outputs": [],
   "source": [
    "spark = SparkSession.builder.appName(\"Spark Merge\").getOrCreate()"
   ]
  },
  {
   "cell_type": "code",
   "execution_count": 3,
   "metadata": {},
   "outputs": [],
   "source": [
    "Mawischema = StructType([StructField(\"anomalyID\", IntegerType() ,True),\n",
    "StructField(\"srcIP\", StringType() ,True),\n",
    "StructField(\"srcPort\", IntegerType() ,True),\n",
    "StructField(\"dstIP\", StringType() ,True),\n",
    "StructField(\"dstPort\", IntegerType() ,True),\n",
    "StructField(\"taxonomy\", StringType() ,True),\n",
    "StructField(\"heuristic\", DoubleType() ,True),\n",
    "StructField(\"distance\", IntegerType() ,True),\n",
    "StructField(\"label\", StringType() ,True),\n",
    "StructField(\"nbDetectors\", StringType() ,True)\n",
    "])\n"
   ]
  },
  {
   "cell_type": "code",
   "execution_count": 4,
   "metadata": {},
   "outputs": [],
   "source": [
    "ISCXschema = StructType([StructField('Flow ID',StringType() ,True),\n",
    "StructField(\"Source IP\", StringType() ,True),\n",
    "StructField(\"Source Port\", IntegerType() ,True),\n",
    "StructField(\"Destination IP\", StringType() ,True),\n",
    "StructField(\"Destination Port\", IntegerType() ,True),\n",
    "StructField(\"Protocol\", IntegerType() ,True),\n",
    "StructField(\"Timestamp\", StringType() ,True),\n",
    "StructField(\"Flow Duration\", IntegerType() ,True),\n",
    "StructField(\"Total Fwd Packets\", IntegerType() ,True),\n",
    "StructField(\"Total Backward Packets\", IntegerType() ,True),\n",
    "StructField(\"Total Length of Fwd Packets\", IntegerType() ,True),\n",
    "StructField(\"Total Length of Bwd Packets\", DecimalType() ,True),\n",
    "StructField(\"Fwd Packet Length Max\", IntegerType() ,True),\n",
    "StructField(\"Fwd Packet Length Min\", IntegerType() ,True),\n",
    "StructField(\"Fwd Packet Length Mean\", DoubleType() ,True),\n",
    "StructField(\"Fwd Packet Length Std\", DoubleType() ,True),\n",
    "StructField(\"Bwd Packet Length Max\", IntegerType() ,True),\n",
    "StructField(\"Bwd Packet Length Min\", IntegerType() ,True),\n",
    "StructField(\"Bwd Packet Length Mean\", DoubleType() ,True),\n",
    "StructField(\"Bwd Packet Length Std\", DoubleType() ,True),\n",
    "StructField(\"Flow Bytes/s\", DoubleType() ,True),\n",
    "StructField(\"Flow Packets/s\", DoubleType() ,True),\n",
    "StructField(\"Flow IAT Mean\", DoubleType() ,True),\n",
    "StructField(\"Flow IAT Std\", DecimalType() ,True),\n",
    "StructField(\"Flow IAT Max\", IntegerType() ,True),\n",
    "StructField(\"Flow IAT Min\", IntegerType() ,True),\n",
    "StructField(\"Fwd IAT Total\", DecimalType() ,True),\n",
    "StructField(\"Fwd IAT Mean\", DoubleType() ,True),\n",
    "StructField(\"Fwd IAT Std\", DoubleType() ,True),\n",
    "StructField(\"Fwd IAT Max\", DecimalType() ,True),\n",
    "StructField(\"Fwd IAT Min\", DecimalType() ,True),\n",
    "StructField(\"Bwd IAT Total\", DecimalType() ,True),\n",
    "StructField(\"Bwd IAT Mean\", DoubleType() ,True),\n",
    "StructField(\"Bwd IAT Std\", DoubleType() ,True),\n",
    "StructField(\"Bwd IAT Max\", DecimalType() ,True),\n",
    "StructField(\"Bwd IAT Min\", DecimalType() ,True),\n",
    "StructField(\"Fwd PSH Flags\", IntegerType() ,True),\n",
    "StructField(\"Bwd PSH Flags\", IntegerType() ,True),\n",
    "StructField(\"Fwd URG Flags\", IntegerType() ,True),\n",
    "StructField(\"Bwd URG Flags\", IntegerType() ,True),\n",
    "StructField(\"Fwd Header Length40\", IntegerType() ,True),\n",
    "StructField(\"Bwd Header Length\", IntegerType() ,True),\n",
    "StructField(\"Fwd Packets/s\", DoubleType() ,True),\n",
    "StructField(\"Bwd Packets/s\", DoubleType() ,True),\n",
    "StructField(\"Min Packet Length\", IntegerType() ,True),\n",
    "StructField(\"Max Packet Length\", IntegerType() ,True),\n",
    "StructField(\"Packet Length Mean\", DoubleType() ,True),\n",
    "StructField(\"Packet Length Std\", DoubleType() ,True),\n",
    "StructField(\"Packet Length Variance\", DoubleType() ,True),\n",
    "StructField(\"FIN Flag Count\", IntegerType() ,True),\n",
    "StructField(\"SYN Flag Count\", IntegerType() ,True),\n",
    "StructField(\"RST Flag Count\", IntegerType() ,True),\n",
    "StructField(\"PSH Flag Count\", IntegerType() ,True),\n",
    "StructField(\"ACK Flag Count\", IntegerType() ,True),\n",
    "StructField(\"URG Flag Count\", IntegerType() ,True),\n",
    "StructField(\"CWE Flag Count\", IntegerType() ,True),\n",
    "StructField(\"ECE Flag Count\", IntegerType() ,True),\n",
    "StructField(\"Down/Up Ratio\", IntegerType() ,True),\n",
    "StructField(\"Average Packet Size\", DoubleType() ,True),\n",
    "StructField(\"Avg Fwd Segment Size\", DoubleType() ,True),\n",
    "StructField(\"Avg Bwd Segment Size\", DoubleType() ,True),\n",
    "StructField(\"Fwd Header Length61\", IntegerType() ,True),\n",
    "StructField(\"Fwd Avg Bytes/Bulk\", IntegerType() ,True),\n",
    "StructField(\"Fwd Avg Packets/Bulk\", IntegerType() ,True),\n",
    "StructField(\"Fwd Avg Bulk Rate\", IntegerType() ,True),\n",
    "StructField(\"Bwd Avg Bytes/Bulk\", IntegerType() ,True),\n",
    "StructField(\"Bwd Avg Packets/Bulk\", IntegerType() ,True),\n",
    "StructField(\"Bwd Avg Bulk Rate\", IntegerType() ,True),\n",
    "StructField(\"Subflow Fwd Packets\", IntegerType() ,True),\n",
    "StructField(\"Subflow Fwd Bytes\", IntegerType() ,True),\n",
    "StructField(\"Subflow Bwd Packets\", IntegerType() ,True),\n",
    "StructField(\"Subflow Bwd Bytes\", IntegerType() ,True),\n",
    "StructField(\"Init_Win_bytes_forward\", IntegerType() ,True),\n",
    "StructField(\"Init_Win_bytes_backward\", IntegerType() ,True),\n",
    "StructField(\"act_data_pkt_fwd\", IntegerType() ,True),\n",
    "StructField(\"min_seg_size_forward\", IntegerType() ,True),\n",
    "StructField(\"Active Mean\", DoubleType() ,True),\n",
    "StructField(\"Active Std\", DoubleType() ,True),\n",
    "StructField(\"Active Max\", DecimalType() ,True),\n",
    "StructField(\"Active Min\", DecimalType() ,True),\n",
    "StructField(\"Idle Mean\", DoubleType() ,True),\n",
    "StructField(\"Idle Std\", DoubleType() ,True),\n",
    "StructField(\"Idle Max\", DecimalType() ,True),\n",
    "StructField(\"Idle Min\", DecimalType() ,True),\n",
    "StructField(\"Label\", StringType() ,True)])"
   ]
  },
  {
   "cell_type": "code",
   "execution_count": 5,
   "metadata": {},
   "outputs": [],
   "source": [
    "Mawi = spark.read.csv('/Mawilab2017Sample.csv',schema=Mawischema,header=True).cache()"
   ]
  },
  {
   "cell_type": "code",
   "execution_count": 9,
   "metadata": {},
   "outputs": [],
   "source": [
    "UNSW = spark.read.csv('/UNSW_NB15Sample.csv',inferSchema=True,header=True).cache()"
   ]
  },
  {
   "cell_type": "code",
   "execution_count": 10,
   "metadata": {},
   "outputs": [],
   "source": [
    "ISCX = spark.read.csv('/ISCX2017Sample.csv',schema=ISCXschema,header=True).cache()"
   ]
  },
  {
   "cell_type": "code",
   "execution_count": 11,
   "metadata": {},
   "outputs": [],
   "source": [
    "Kdd = spark.read.csv('/KDDCup99Sample.csv',inferSchema=True,header=True).cache()"
   ]
  },
  {
   "cell_type": "code",
   "execution_count": 12,
   "metadata": {},
   "outputs": [],
   "source": [
    "#ISCX.groupBy('Protocol').count().show()"
   ]
  },
  {
   "cell_type": "code",
   "execution_count": 13,
   "metadata": {},
   "outputs": [],
   "source": [
    "Mawi = Mawi.withColumnRenamed('srcIP' ,'Source IP')\n",
    "Mawi = Mawi.withColumnRenamed('dstIP' ,'Destination IP')\n",
    "Mawi = Mawi.withColumnRenamed('srcPort' ,'Source Port')\n",
    "Mawi = Mawi.withColumnRenamed('dstPort' ,'Destination Port')"
   ]
  },
  {
   "cell_type": "code",
   "execution_count": 14,
   "metadata": {},
   "outputs": [],
   "source": [
    "UNSW = UNSW.withColumnRenamed('dur' ,'duration')\n",
    "UNSW = UNSW.withColumnRenamed('proto' ,'Protocol')\n",
    "UNSW = UNSW.withColumnRenamed('ct_src_dport_ltm' ,'Source Port')\n",
    "UNSW = UNSW.withColumnRenamed('ct_dst_sport_ltm' ,'Destination Port')\n",
    "UNSW = UNSW.withColumnRenamed('sbytes' ,'Source Bytes')\n",
    "UNSW = UNSW.withColumnRenamed('dbytes' ,'Destination Bytes')"
   ]
  },
  {
   "cell_type": "code",
   "execution_count": 15,
   "metadata": {},
   "outputs": [],
   "source": [
    "Kdd = Kdd.withColumnRenamed('protocol_type' ,'Protocol')\n",
    "Kdd = Kdd.withColumnRenamed('src_bytes' ,'Destination Bytes')\n",
    "Kdd = Kdd.withColumnRenamed('dst_bytes' ,'Source Bytes')"
   ]
  },
  {
   "cell_type": "code",
   "execution_count": 16,
   "metadata": {},
   "outputs": [],
   "source": [
    "#Kddpand = pandas.read_csv('C:/Users/Mounir Hafsa/Desktop/bases/Sample Join/KDDCup99Sample.csv')"
   ]
  },
  {
   "cell_type": "code",
   "execution_count": 17,
   "metadata": {},
   "outputs": [],
   "source": [
    "#mawipand = mawipand.rename(columns={' label':'label',' srcIP':'srcIP',' srcPort':'srcPort',' dstIP':'dstIP',' dstPort':'dstPort',' taxonomy':'taxonomy',' heuristic':'heuristic',' distance':'distance',' nbDetectors':'nbDetectors'})"
   ]
  },
  {
   "cell_type": "code",
   "execution_count": 18,
   "metadata": {},
   "outputs": [],
   "source": [
    "ISCX = ISCX.withColumnRenamed('Flow Duration','duration')"
   ]
  },
  {
   "cell_type": "code",
   "execution_count": 19,
   "metadata": {},
   "outputs": [
    {
     "data": {
      "text/plain": [
       "['duration',\n",
       " 'Protocol',\n",
       " 'service',\n",
       " 'flag',\n",
       " 'Destination Bytes',\n",
       " 'Source Bytes',\n",
       " 'land',\n",
       " 'wrong_fragment',\n",
       " 'urgent',\n",
       " 'hot',\n",
       " 'num_failed_logins',\n",
       " 'logged_in',\n",
       " 'lnum_compromised',\n",
       " 'lroot_shell',\n",
       " 'lsu_attempted',\n",
       " 'lnum_root',\n",
       " 'lnum_file_creations',\n",
       " 'lnum_shells',\n",
       " 'lnum_access_files',\n",
       " 'lnum_outbound_cmds',\n",
       " 'is_host_login',\n",
       " 'is_guest_login',\n",
       " 'count',\n",
       " 'srv_count',\n",
       " 'serror_rate',\n",
       " 'srv_serror_rate',\n",
       " 'rerror_rate',\n",
       " 'srv_rerror_rate',\n",
       " 'same_srv_rate',\n",
       " 'diff_srv_rate',\n",
       " 'srv_diff_host_rate',\n",
       " 'dst_host_count',\n",
       " 'dst_host_srv_count',\n",
       " 'dst_host_same_srv_rate',\n",
       " 'dst_host_diff_srv_rate',\n",
       " 'dst_host_same_src_port_rate',\n",
       " 'dst_host_srv_diff_host_rate',\n",
       " 'dst_host_serror_rate',\n",
       " 'dst_host_srv_serror_rate',\n",
       " 'dst_host_rerror_rate',\n",
       " 'dst_host_srv_rerror_rate',\n",
       " 'label']"
      ]
     },
     "execution_count": 19,
     "metadata": {},
     "output_type": "execute_result"
    }
   ],
   "source": [
    "Kdd.columns"
   ]
  },
  {
   "cell_type": "code",
   "execution_count": 20,
   "metadata": {},
   "outputs": [],
   "source": [
    "UN = UNSW.select(['duration',\n",
    " 'Protocol',\n",
    " 'service',\n",
    " 'state',\n",
    " 'spkts',\n",
    " 'dpkts',\n",
    " 'Source Bytes',\n",
    " 'Destination Bytes',\n",
    " 'rate',\n",
    " 'sttl',\n",
    " 'dttl',\n",
    " 'sload',\n",
    " 'dload',\n",
    " 'sloss',\n",
    " 'dloss',\n",
    " 'sinpkt',\n",
    " 'dinpkt',\n",
    " 'sjit',\n",
    " 'djit',\n",
    " 'swin',\n",
    " 'stcpb',\n",
    " 'dtcpb',\n",
    " 'dwin',\n",
    " 'tcprtt',\n",
    " 'synack',\n",
    " 'ackdat',\n",
    " 'smean',\n",
    " 'dmean',\n",
    " 'trans_depth',\n",
    " 'response_body_len',\n",
    " 'ct_srv_src',\n",
    " 'ct_state_ttl',\n",
    " 'ct_dst_ltm',\n",
    " 'Source Port',\n",
    " 'Destination Port',\n",
    " 'ct_dst_src_ltm',\n",
    " 'is_ftp_login',\n",
    " 'ct_ftp_cmd',\n",
    " 'ct_flw_http_mthd',\n",
    " 'ct_src_ltm',\n",
    " 'ct_srv_dst',\n",
    " 'is_sm_ips_ports',\n",
    " 'attack_cat',\n",
    " 'label'])"
   ]
  },
  {
   "cell_type": "code",
   "execution_count": 21,
   "metadata": {},
   "outputs": [],
   "source": [
    "Mawi_Lab = Mawi.select(['Source IP',\n",
    " 'Source Port',\n",
    " 'Destination IP',\n",
    " 'Destination Port',\n",
    " 'taxonomy',\n",
    " 'heuristic',\n",
    " 'distance',\n",
    " 'label'])"
   ]
  },
  {
   "cell_type": "code",
   "execution_count": 22,
   "metadata": {},
   "outputs": [],
   "source": [
    "ISCX_IDS = ISCX.select(['Source IP',\n",
    " 'Source Port',\n",
    " 'Destination IP',\n",
    " 'Destination Port',\n",
    " 'Protocol',\n",
    " 'duration',\n",
    " 'Total Fwd Packets',\n",
    " 'Total Backward Packets',\n",
    " 'Total Length of Fwd Packets',\n",
    " 'Total Length of Bwd Packets',\n",
    " 'Fwd Packet Length Max',\n",
    " 'Fwd Packet Length Min',\n",
    " 'Fwd Packet Length Mean',\n",
    " 'Fwd Packet Length Std',\n",
    " 'Bwd Packet Length Max',\n",
    " 'Bwd Packet Length Min',\n",
    " 'Bwd Packet Length Mean',\n",
    " 'Bwd Packet Length Std',\n",
    " 'Flow Bytes/s',\n",
    " 'Flow Packets/s',\n",
    " 'Flow IAT Mean',\n",
    " 'Flow IAT Std',\n",
    " 'Flow IAT Max',\n",
    " 'Flow IAT Min',\n",
    " 'Fwd IAT Total',\n",
    " 'Fwd IAT Mean',\n",
    " 'Fwd IAT Std',\n",
    " 'Fwd IAT Max',\n",
    " 'Fwd IAT Min',\n",
    " 'Bwd IAT Total',\n",
    " 'Bwd IAT Mean',\n",
    " 'Bwd IAT Std',\n",
    " 'Bwd IAT Max',\n",
    " 'Bwd IAT Min',\n",
    " 'Fwd PSH Flags',\n",
    " 'Bwd PSH Flags',\n",
    " 'Fwd URG Flags',\n",
    " 'Bwd URG Flags',\n",
    " 'Fwd Header Length40',\n",
    " 'Bwd Header Length',\n",
    " 'Fwd Packets/s',\n",
    " 'Bwd Packets/s',\n",
    " 'Min Packet Length',\n",
    " 'Max Packet Length',\n",
    " 'Packet Length Mean',\n",
    " 'Packet Length Std',\n",
    " 'Packet Length Variance',\n",
    " 'FIN Flag Count',\n",
    " 'SYN Flag Count',\n",
    " 'RST Flag Count',\n",
    " 'PSH Flag Count',\n",
    " 'ACK Flag Count',\n",
    " 'URG Flag Count',\n",
    " 'CWE Flag Count',\n",
    " 'ECE Flag Count',\n",
    " 'Down/Up Ratio',\n",
    " 'Average Packet Size',\n",
    " 'Avg Fwd Segment Size',\n",
    " 'Avg Bwd Segment Size',\n",
    " 'Fwd Header Length61',\n",
    " 'Fwd Avg Bytes/Bulk',\n",
    " 'Fwd Avg Packets/Bulk',\n",
    " 'Fwd Avg Bulk Rate',\n",
    " 'Bwd Avg Bytes/Bulk',\n",
    " 'Bwd Avg Packets/Bulk',\n",
    " 'Bwd Avg Bulk Rate',\n",
    " 'Subflow Fwd Packets',\n",
    " 'Subflow Fwd Bytes',\n",
    " 'Subflow Bwd Packets',\n",
    " 'Subflow Bwd Bytes',\n",
    " 'Init_Win_bytes_forward',\n",
    " 'Init_Win_bytes_backward',\n",
    " 'act_data_pkt_fwd',\n",
    " 'min_seg_size_forward',\n",
    " 'Active Mean',\n",
    " 'Active Std',\n",
    " 'Active Max',\n",
    " 'Active Min',\n",
    " 'Idle Mean',\n",
    " 'Idle Std',\n",
    " 'Idle Max',\n",
    " 'Idle Min',\n",
    " 'Label'])"
   ]
  },
  {
   "cell_type": "code",
   "execution_count": 23,
   "metadata": {},
   "outputs": [],
   "source": [
    "#Kdd.createTempView(\"kdd\")\n",
    "#Mawi.createTempView(\"mawi\")"
   ]
  },
  {
   "cell_type": "code",
   "execution_count": 24,
   "metadata": {},
   "outputs": [],
   "source": [
    "#Kdd_Mawi = spark.sql(\"select * FROM mawi LEFT JOIN kdd ON 'kdd.label' = 'mawi. label'\")"
   ]
  },
  {
   "cell_type": "code",
   "execution_count": 25,
   "metadata": {},
   "outputs": [],
   "source": [
    "#kddf = spark.sql(\"select * FROM kdd\")\n",
    "#mawif = spark.sql(\"select * FROM mawi\")"
   ]
  },
  {
   "cell_type": "markdown",
   "metadata": {},
   "source": [
    "UN , Mawi_Lab , ISCX_IDS , Kdd"
   ]
  },
  {
   "cell_type": "markdown",
   "metadata": {},
   "source": [
    " cond = [df.name == df3.name, df.age == df3.age]\n",
    " UN['label'] == Kdd['label'],UN['duration'] == Kdd['duration'],UN['Protocol'] == Kdd['Protocol'],UN['service'] == Kdd['service'],UN['Source Bytes'] == Kdd['Source Bytes'],UN['Destination Bytes'] == Kdd['Destination Bytes']\n",
    "df.join(df3, cond, 'outer').select(df.name, df3.age).collect()"
   ]
  },
  {
   "cell_type": "code",
   "execution_count": 26,
   "metadata": {},
   "outputs": [],
   "source": [
    "#cond = [UN['label'] == Kdd['label'] , UN['duration'] == Kdd['duration'] , UN['Protocol'] == Kdd['Protocol'] , UN['service'] == Kdd['service'] , UN['Source Bytes'] == Kdd['Source Bytes'] , UN['Destination Bytes'] == Kdd['Destination Bytes']"
   ]
  },
  {
   "cell_type": "code",
   "execution_count": 27,
   "metadata": {},
   "outputs": [],
   "source": [
    "df_joined = Kdd.join(UN,['label', 'duration','Protocol','service','Source Bytes','Destination Bytes'],how='full_outer')"
   ]
  },
  {
   "cell_type": "code",
   "execution_count": 28,
   "metadata": {},
   "outputs": [
    {
     "data": {
      "text/plain": [
       "['label',\n",
       " 'duration',\n",
       " 'Protocol',\n",
       " 'service',\n",
       " 'Source Bytes',\n",
       " 'Destination Bytes',\n",
       " 'flag',\n",
       " 'land',\n",
       " 'wrong_fragment',\n",
       " 'urgent',\n",
       " 'hot',\n",
       " 'num_failed_logins',\n",
       " 'logged_in',\n",
       " 'lnum_compromised',\n",
       " 'lroot_shell',\n",
       " 'lsu_attempted',\n",
       " 'lnum_root',\n",
       " 'lnum_file_creations',\n",
       " 'lnum_shells',\n",
       " 'lnum_access_files',\n",
       " 'lnum_outbound_cmds',\n",
       " 'is_host_login',\n",
       " 'is_guest_login',\n",
       " 'count',\n",
       " 'srv_count',\n",
       " 'serror_rate',\n",
       " 'srv_serror_rate',\n",
       " 'rerror_rate',\n",
       " 'srv_rerror_rate',\n",
       " 'same_srv_rate',\n",
       " 'diff_srv_rate',\n",
       " 'srv_diff_host_rate',\n",
       " 'dst_host_count',\n",
       " 'dst_host_srv_count',\n",
       " 'dst_host_same_srv_rate',\n",
       " 'dst_host_diff_srv_rate',\n",
       " 'dst_host_same_src_port_rate',\n",
       " 'dst_host_srv_diff_host_rate',\n",
       " 'dst_host_serror_rate',\n",
       " 'dst_host_srv_serror_rate',\n",
       " 'dst_host_rerror_rate',\n",
       " 'dst_host_srv_rerror_rate',\n",
       " 'state',\n",
       " 'spkts',\n",
       " 'dpkts',\n",
       " 'rate',\n",
       " 'sttl',\n",
       " 'dttl',\n",
       " 'sload',\n",
       " 'dload',\n",
       " 'sloss',\n",
       " 'dloss',\n",
       " 'sinpkt',\n",
       " 'dinpkt',\n",
       " 'sjit',\n",
       " 'djit',\n",
       " 'swin',\n",
       " 'stcpb',\n",
       " 'dtcpb',\n",
       " 'dwin',\n",
       " 'tcprtt',\n",
       " 'synack',\n",
       " 'ackdat',\n",
       " 'smean',\n",
       " 'dmean',\n",
       " 'trans_depth',\n",
       " 'response_body_len',\n",
       " 'ct_srv_src',\n",
       " 'ct_state_ttl',\n",
       " 'ct_dst_ltm',\n",
       " 'Source Port',\n",
       " 'Destination Port',\n",
       " 'ct_dst_src_ltm',\n",
       " 'is_ftp_login',\n",
       " 'ct_ftp_cmd',\n",
       " 'ct_flw_http_mthd',\n",
       " 'ct_src_ltm',\n",
       " 'ct_srv_dst',\n",
       " 'is_sm_ips_ports',\n",
       " 'attack_cat']"
      ]
     },
     "execution_count": 28,
     "metadata": {},
     "output_type": "execute_result"
    }
   ],
   "source": [
    "df_joined.columns"
   ]
  },
  {
   "cell_type": "code",
   "execution_count": 29,
   "metadata": {},
   "outputs": [],
   "source": [
    "#df_joined.write.parquet('/kdd_mawi_dataframe.parquet')"
   ]
  },
  {
   "cell_type": "code",
   "execution_count": 30,
   "metadata": {},
   "outputs": [
    {
     "data": {
      "text/plain": [
       "11051"
      ]
     },
     "execution_count": 30,
     "metadata": {},
     "output_type": "execute_result"
    }
   ],
   "source": [
    "df_joined.count()"
   ]
  },
  {
   "cell_type": "code",
   "execution_count": 31,
   "metadata": {},
   "outputs": [],
   "source": [
    "#df_joined.groupBy('label').count().show()"
   ]
  },
  {
   "cell_type": "code",
   "execution_count": 32,
   "metadata": {},
   "outputs": [],
   "source": [
    "df_kdmwun = df_joined.join(ISCX_IDS,['label' , 'duration' , 'Protocol' ,'Source Port','Destination Port'],how='full_outer')"
   ]
  },
  {
   "cell_type": "code",
   "execution_count": 33,
   "metadata": {},
   "outputs": [
    {
     "name": "stdout",
     "output_type": "stream",
     "text": [
      "root\n",
      " |-- label: string (nullable = true)\n",
      " |-- duration: double (nullable = true)\n",
      " |-- Protocol: string (nullable = true)\n",
      " |-- Source Port: integer (nullable = true)\n",
      " |-- Destination Port: integer (nullable = true)\n",
      " |-- service: string (nullable = true)\n",
      " |-- Source Bytes: integer (nullable = true)\n",
      " |-- Destination Bytes: integer (nullable = true)\n",
      " |-- flag: string (nullable = true)\n",
      " |-- land: integer (nullable = true)\n",
      " |-- wrong_fragment: integer (nullable = true)\n",
      " |-- urgent: integer (nullable = true)\n",
      " |-- hot: integer (nullable = true)\n",
      " |-- num_failed_logins: integer (nullable = true)\n",
      " |-- logged_in: integer (nullable = true)\n",
      " |-- lnum_compromised: integer (nullable = true)\n",
      " |-- lroot_shell: integer (nullable = true)\n",
      " |-- lsu_attempted: integer (nullable = true)\n",
      " |-- lnum_root: integer (nullable = true)\n",
      " |-- lnum_file_creations: integer (nullable = true)\n",
      " |-- lnum_shells: integer (nullable = true)\n",
      " |-- lnum_access_files: integer (nullable = true)\n",
      " |-- lnum_outbound_cmds: integer (nullable = true)\n",
      " |-- is_host_login: integer (nullable = true)\n",
      " |-- is_guest_login: integer (nullable = true)\n",
      " |-- count: integer (nullable = true)\n",
      " |-- srv_count: integer (nullable = true)\n",
      " |-- serror_rate: double (nullable = true)\n",
      " |-- srv_serror_rate: double (nullable = true)\n",
      " |-- rerror_rate: double (nullable = true)\n",
      " |-- srv_rerror_rate: double (nullable = true)\n",
      " |-- same_srv_rate: double (nullable = true)\n",
      " |-- diff_srv_rate: double (nullable = true)\n",
      " |-- srv_diff_host_rate: double (nullable = true)\n",
      " |-- dst_host_count: integer (nullable = true)\n",
      " |-- dst_host_srv_count: integer (nullable = true)\n",
      " |-- dst_host_same_srv_rate: double (nullable = true)\n",
      " |-- dst_host_diff_srv_rate: double (nullable = true)\n",
      " |-- dst_host_same_src_port_rate: double (nullable = true)\n",
      " |-- dst_host_srv_diff_host_rate: double (nullable = true)\n",
      " |-- dst_host_serror_rate: double (nullable = true)\n",
      " |-- dst_host_srv_serror_rate: double (nullable = true)\n",
      " |-- dst_host_rerror_rate: double (nullable = true)\n",
      " |-- dst_host_srv_rerror_rate: double (nullable = true)\n",
      " |-- state: string (nullable = true)\n",
      " |-- spkts: integer (nullable = true)\n",
      " |-- dpkts: integer (nullable = true)\n",
      " |-- rate: double (nullable = true)\n",
      " |-- sttl: integer (nullable = true)\n",
      " |-- dttl: integer (nullable = true)\n",
      " |-- sload: double (nullable = true)\n",
      " |-- dload: double (nullable = true)\n",
      " |-- sloss: integer (nullable = true)\n",
      " |-- dloss: integer (nullable = true)\n",
      " |-- sinpkt: double (nullable = true)\n",
      " |-- dinpkt: double (nullable = true)\n",
      " |-- sjit: double (nullable = true)\n",
      " |-- djit: double (nullable = true)\n",
      " |-- swin: integer (nullable = true)\n",
      " |-- stcpb: long (nullable = true)\n",
      " |-- dtcpb: long (nullable = true)\n",
      " |-- dwin: integer (nullable = true)\n",
      " |-- tcprtt: double (nullable = true)\n",
      " |-- synack: double (nullable = true)\n",
      " |-- ackdat: double (nullable = true)\n",
      " |-- smean: integer (nullable = true)\n",
      " |-- dmean: integer (nullable = true)\n",
      " |-- trans_depth: integer (nullable = true)\n",
      " |-- response_body_len: integer (nullable = true)\n",
      " |-- ct_srv_src: integer (nullable = true)\n",
      " |-- ct_state_ttl: integer (nullable = true)\n",
      " |-- ct_dst_ltm: integer (nullable = true)\n",
      " |-- ct_dst_src_ltm: integer (nullable = true)\n",
      " |-- is_ftp_login: integer (nullable = true)\n",
      " |-- ct_ftp_cmd: integer (nullable = true)\n",
      " |-- ct_flw_http_mthd: integer (nullable = true)\n",
      " |-- ct_src_ltm: integer (nullable = true)\n",
      " |-- ct_srv_dst: integer (nullable = true)\n",
      " |-- is_sm_ips_ports: integer (nullable = true)\n",
      " |-- attack_cat: string (nullable = true)\n",
      " |-- Source IP: string (nullable = true)\n",
      " |-- Destination IP: string (nullable = true)\n",
      " |-- Total Fwd Packets: integer (nullable = true)\n",
      " |-- Total Backward Packets: integer (nullable = true)\n",
      " |-- Total Length of Fwd Packets: integer (nullable = true)\n",
      " |-- Total Length of Bwd Packets: decimal(10,0) (nullable = true)\n",
      " |-- Fwd Packet Length Max: integer (nullable = true)\n",
      " |-- Fwd Packet Length Min: integer (nullable = true)\n",
      " |-- Fwd Packet Length Mean: double (nullable = true)\n",
      " |-- Fwd Packet Length Std: double (nullable = true)\n",
      " |-- Bwd Packet Length Max: integer (nullable = true)\n",
      " |-- Bwd Packet Length Min: integer (nullable = true)\n",
      " |-- Bwd Packet Length Mean: double (nullable = true)\n",
      " |-- Bwd Packet Length Std: double (nullable = true)\n",
      " |-- Flow Bytes/s: double (nullable = true)\n",
      " |-- Flow Packets/s: double (nullable = true)\n",
      " |-- Flow IAT Mean: double (nullable = true)\n",
      " |-- Flow IAT Std: decimal(10,0) (nullable = true)\n",
      " |-- Flow IAT Max: integer (nullable = true)\n",
      " |-- Flow IAT Min: integer (nullable = true)\n",
      " |-- Fwd IAT Total: decimal(10,0) (nullable = true)\n",
      " |-- Fwd IAT Mean: double (nullable = true)\n",
      " |-- Fwd IAT Std: double (nullable = true)\n",
      " |-- Fwd IAT Max: decimal(10,0) (nullable = true)\n",
      " |-- Fwd IAT Min: decimal(10,0) (nullable = true)\n",
      " |-- Bwd IAT Total: decimal(10,0) (nullable = true)\n",
      " |-- Bwd IAT Mean: double (nullable = true)\n",
      " |-- Bwd IAT Std: double (nullable = true)\n",
      " |-- Bwd IAT Max: decimal(10,0) (nullable = true)\n",
      " |-- Bwd IAT Min: decimal(10,0) (nullable = true)\n",
      " |-- Fwd PSH Flags: integer (nullable = true)\n",
      " |-- Bwd PSH Flags: integer (nullable = true)\n",
      " |-- Fwd URG Flags: integer (nullable = true)\n",
      " |-- Bwd URG Flags: integer (nullable = true)\n",
      " |-- Fwd Header Length40: integer (nullable = true)\n",
      " |-- Bwd Header Length: integer (nullable = true)\n",
      " |-- Fwd Packets/s: double (nullable = true)\n",
      " |-- Bwd Packets/s: double (nullable = true)\n",
      " |-- Min Packet Length: integer (nullable = true)\n",
      " |-- Max Packet Length: integer (nullable = true)\n",
      " |-- Packet Length Mean: double (nullable = true)\n",
      " |-- Packet Length Std: double (nullable = true)\n",
      " |-- Packet Length Variance: double (nullable = true)\n",
      " |-- FIN Flag Count: integer (nullable = true)\n",
      " |-- SYN Flag Count: integer (nullable = true)\n",
      " |-- RST Flag Count: integer (nullable = true)\n",
      " |-- PSH Flag Count: integer (nullable = true)\n",
      " |-- ACK Flag Count: integer (nullable = true)\n",
      " |-- URG Flag Count: integer (nullable = true)\n",
      " |-- CWE Flag Count: integer (nullable = true)\n",
      " |-- ECE Flag Count: integer (nullable = true)\n",
      " |-- Down/Up Ratio: integer (nullable = true)\n",
      " |-- Average Packet Size: double (nullable = true)\n",
      " |-- Avg Fwd Segment Size: double (nullable = true)\n",
      " |-- Avg Bwd Segment Size: double (nullable = true)\n",
      " |-- Fwd Header Length61: integer (nullable = true)\n",
      " |-- Fwd Avg Bytes/Bulk: integer (nullable = true)\n",
      " |-- Fwd Avg Packets/Bulk: integer (nullable = true)\n",
      " |-- Fwd Avg Bulk Rate: integer (nullable = true)\n",
      " |-- Bwd Avg Bytes/Bulk: integer (nullable = true)\n",
      " |-- Bwd Avg Packets/Bulk: integer (nullable = true)\n",
      " |-- Bwd Avg Bulk Rate: integer (nullable = true)\n",
      " |-- Subflow Fwd Packets: integer (nullable = true)\n",
      " |-- Subflow Fwd Bytes: integer (nullable = true)\n",
      " |-- Subflow Bwd Packets: integer (nullable = true)\n",
      " |-- Subflow Bwd Bytes: integer (nullable = true)\n",
      " |-- Init_Win_bytes_forward: integer (nullable = true)\n",
      " |-- Init_Win_bytes_backward: integer (nullable = true)\n",
      " |-- act_data_pkt_fwd: integer (nullable = true)\n",
      " |-- min_seg_size_forward: integer (nullable = true)\n",
      " |-- Active Mean: double (nullable = true)\n",
      " |-- Active Std: double (nullable = true)\n",
      " |-- Active Max: decimal(10,0) (nullable = true)\n",
      " |-- Active Min: decimal(10,0) (nullable = true)\n",
      " |-- Idle Mean: double (nullable = true)\n",
      " |-- Idle Std: double (nullable = true)\n",
      " |-- Idle Max: decimal(10,0) (nullable = true)\n",
      " |-- Idle Min: decimal(10,0) (nullable = true)\n",
      "\n"
     ]
    }
   ],
   "source": [
    "df_kdmwun.printSchema()"
   ]
  },
  {
   "cell_type": "code",
   "execution_count": 34,
   "metadata": {},
   "outputs": [],
   "source": [
    "#df_kdmwun.count()"
   ]
  },
  {
   "cell_type": "code",
   "execution_count": 35,
   "metadata": {},
   "outputs": [],
   "source": [
    "#df_kdmwun.groupBy('service').count().show()"
   ]
  },
  {
   "cell_type": "code",
   "execution_count": 36,
   "metadata": {},
   "outputs": [],
   "source": [
    "df_full = df_kdmwun.join(Mawi_Lab,['label' , 'Destination IP' , 'Source IP' ,'Source Port','Destination Port'],how='full_outer')"
   ]
  },
  {
   "cell_type": "code",
   "execution_count": 37,
   "metadata": {},
   "outputs": [
    {
     "data": {
      "text/plain": [
       "['label',\n",
       " 'Destination IP',\n",
       " 'Source IP',\n",
       " 'Source Port',\n",
       " 'Destination Port',\n",
       " 'duration',\n",
       " 'Protocol',\n",
       " 'service',\n",
       " 'Source Bytes',\n",
       " 'Destination Bytes',\n",
       " 'flag',\n",
       " 'land',\n",
       " 'wrong_fragment',\n",
       " 'urgent',\n",
       " 'hot',\n",
       " 'num_failed_logins',\n",
       " 'logged_in',\n",
       " 'lnum_compromised',\n",
       " 'lroot_shell',\n",
       " 'lsu_attempted',\n",
       " 'lnum_root',\n",
       " 'lnum_file_creations',\n",
       " 'lnum_shells',\n",
       " 'lnum_access_files',\n",
       " 'lnum_outbound_cmds',\n",
       " 'is_host_login',\n",
       " 'is_guest_login',\n",
       " 'count',\n",
       " 'srv_count',\n",
       " 'serror_rate',\n",
       " 'srv_serror_rate',\n",
       " 'rerror_rate',\n",
       " 'srv_rerror_rate',\n",
       " 'same_srv_rate',\n",
       " 'diff_srv_rate',\n",
       " 'srv_diff_host_rate',\n",
       " 'dst_host_count',\n",
       " 'dst_host_srv_count',\n",
       " 'dst_host_same_srv_rate',\n",
       " 'dst_host_diff_srv_rate',\n",
       " 'dst_host_same_src_port_rate',\n",
       " 'dst_host_srv_diff_host_rate',\n",
       " 'dst_host_serror_rate',\n",
       " 'dst_host_srv_serror_rate',\n",
       " 'dst_host_rerror_rate',\n",
       " 'dst_host_srv_rerror_rate',\n",
       " 'state',\n",
       " 'spkts',\n",
       " 'dpkts',\n",
       " 'rate',\n",
       " 'sttl',\n",
       " 'dttl',\n",
       " 'sload',\n",
       " 'dload',\n",
       " 'sloss',\n",
       " 'dloss',\n",
       " 'sinpkt',\n",
       " 'dinpkt',\n",
       " 'sjit',\n",
       " 'djit',\n",
       " 'swin',\n",
       " 'stcpb',\n",
       " 'dtcpb',\n",
       " 'dwin',\n",
       " 'tcprtt',\n",
       " 'synack',\n",
       " 'ackdat',\n",
       " 'smean',\n",
       " 'dmean',\n",
       " 'trans_depth',\n",
       " 'response_body_len',\n",
       " 'ct_srv_src',\n",
       " 'ct_state_ttl',\n",
       " 'ct_dst_ltm',\n",
       " 'ct_dst_src_ltm',\n",
       " 'is_ftp_login',\n",
       " 'ct_ftp_cmd',\n",
       " 'ct_flw_http_mthd',\n",
       " 'ct_src_ltm',\n",
       " 'ct_srv_dst',\n",
       " 'is_sm_ips_ports',\n",
       " 'attack_cat',\n",
       " 'Total Fwd Packets',\n",
       " 'Total Backward Packets',\n",
       " 'Total Length of Fwd Packets',\n",
       " 'Total Length of Bwd Packets',\n",
       " 'Fwd Packet Length Max',\n",
       " 'Fwd Packet Length Min',\n",
       " 'Fwd Packet Length Mean',\n",
       " 'Fwd Packet Length Std',\n",
       " 'Bwd Packet Length Max',\n",
       " 'Bwd Packet Length Min',\n",
       " 'Bwd Packet Length Mean',\n",
       " 'Bwd Packet Length Std',\n",
       " 'Flow Bytes/s',\n",
       " 'Flow Packets/s',\n",
       " 'Flow IAT Mean',\n",
       " 'Flow IAT Std',\n",
       " 'Flow IAT Max',\n",
       " 'Flow IAT Min',\n",
       " 'Fwd IAT Total',\n",
       " 'Fwd IAT Mean',\n",
       " 'Fwd IAT Std',\n",
       " 'Fwd IAT Max',\n",
       " 'Fwd IAT Min',\n",
       " 'Bwd IAT Total',\n",
       " 'Bwd IAT Mean',\n",
       " 'Bwd IAT Std',\n",
       " 'Bwd IAT Max',\n",
       " 'Bwd IAT Min',\n",
       " 'Fwd PSH Flags',\n",
       " 'Bwd PSH Flags',\n",
       " 'Fwd URG Flags',\n",
       " 'Bwd URG Flags',\n",
       " 'Fwd Header Length40',\n",
       " 'Bwd Header Length',\n",
       " 'Fwd Packets/s',\n",
       " 'Bwd Packets/s',\n",
       " 'Min Packet Length',\n",
       " 'Max Packet Length',\n",
       " 'Packet Length Mean',\n",
       " 'Packet Length Std',\n",
       " 'Packet Length Variance',\n",
       " 'FIN Flag Count',\n",
       " 'SYN Flag Count',\n",
       " 'RST Flag Count',\n",
       " 'PSH Flag Count',\n",
       " 'ACK Flag Count',\n",
       " 'URG Flag Count',\n",
       " 'CWE Flag Count',\n",
       " 'ECE Flag Count',\n",
       " 'Down/Up Ratio',\n",
       " 'Average Packet Size',\n",
       " 'Avg Fwd Segment Size',\n",
       " 'Avg Bwd Segment Size',\n",
       " 'Fwd Header Length61',\n",
       " 'Fwd Avg Bytes/Bulk',\n",
       " 'Fwd Avg Packets/Bulk',\n",
       " 'Fwd Avg Bulk Rate',\n",
       " 'Bwd Avg Bytes/Bulk',\n",
       " 'Bwd Avg Packets/Bulk',\n",
       " 'Bwd Avg Bulk Rate',\n",
       " 'Subflow Fwd Packets',\n",
       " 'Subflow Fwd Bytes',\n",
       " 'Subflow Bwd Packets',\n",
       " 'Subflow Bwd Bytes',\n",
       " 'Init_Win_bytes_forward',\n",
       " 'Init_Win_bytes_backward',\n",
       " 'act_data_pkt_fwd',\n",
       " 'min_seg_size_forward',\n",
       " 'Active Mean',\n",
       " 'Active Std',\n",
       " 'Active Max',\n",
       " 'Active Min',\n",
       " 'Idle Mean',\n",
       " 'Idle Std',\n",
       " 'Idle Max',\n",
       " 'Idle Min',\n",
       " 'taxonomy',\n",
       " 'heuristic',\n",
       " 'distance']"
      ]
     },
     "execution_count": 37,
     "metadata": {},
     "output_type": "execute_result"
    }
   ],
   "source": [
    "df_full.columns"
   ]
  },
  {
   "cell_type": "code",
   "execution_count": 38,
   "metadata": {},
   "outputs": [],
   "source": [
    "#df_full.count()"
   ]
  },
  {
   "cell_type": "code",
   "execution_count": 39,
   "metadata": {},
   "outputs": [],
   "source": [
    "#df_full.groupBy('label').count().show()"
   ]
  },
  {
   "cell_type": "code",
   "execution_count": 40,
   "metadata": {},
   "outputs": [
    {
     "data": {
      "text/plain": [
       "['label',\n",
       " 'Destination IP',\n",
       " 'Source IP',\n",
       " 'Source Port',\n",
       " 'Destination Port',\n",
       " 'duration',\n",
       " 'Protocol',\n",
       " 'service',\n",
       " 'Source Bytes',\n",
       " 'Destination Bytes',\n",
       " 'flag',\n",
       " 'land',\n",
       " 'wrong_fragment',\n",
       " 'urgent',\n",
       " 'hot',\n",
       " 'num_failed_logins',\n",
       " 'logged_in',\n",
       " 'lnum_compromised',\n",
       " 'lroot_shell',\n",
       " 'lsu_attempted',\n",
       " 'lnum_root',\n",
       " 'lnum_file_creations',\n",
       " 'lnum_shells',\n",
       " 'lnum_access_files',\n",
       " 'lnum_outbound_cmds',\n",
       " 'is_host_login',\n",
       " 'is_guest_login',\n",
       " 'count',\n",
       " 'srv_count',\n",
       " 'serror_rate',\n",
       " 'srv_serror_rate',\n",
       " 'rerror_rate',\n",
       " 'srv_rerror_rate',\n",
       " 'same_srv_rate',\n",
       " 'diff_srv_rate',\n",
       " 'srv_diff_host_rate',\n",
       " 'dst_host_count',\n",
       " 'dst_host_srv_count',\n",
       " 'dst_host_same_srv_rate',\n",
       " 'dst_host_diff_srv_rate',\n",
       " 'dst_host_same_src_port_rate',\n",
       " 'dst_host_srv_diff_host_rate',\n",
       " 'dst_host_serror_rate',\n",
       " 'dst_host_srv_serror_rate',\n",
       " 'dst_host_rerror_rate',\n",
       " 'dst_host_srv_rerror_rate',\n",
       " 'state',\n",
       " 'spkts',\n",
       " 'dpkts',\n",
       " 'rate',\n",
       " 'sttl',\n",
       " 'dttl',\n",
       " 'sload',\n",
       " 'dload',\n",
       " 'sloss',\n",
       " 'dloss',\n",
       " 'sinpkt',\n",
       " 'dinpkt',\n",
       " 'sjit',\n",
       " 'djit',\n",
       " 'swin',\n",
       " 'stcpb',\n",
       " 'dtcpb',\n",
       " 'dwin',\n",
       " 'tcprtt',\n",
       " 'synack',\n",
       " 'ackdat',\n",
       " 'smean',\n",
       " 'dmean',\n",
       " 'trans_depth',\n",
       " 'response_body_len',\n",
       " 'ct_srv_src',\n",
       " 'ct_state_ttl',\n",
       " 'ct_dst_ltm',\n",
       " 'ct_dst_src_ltm',\n",
       " 'is_ftp_login',\n",
       " 'ct_ftp_cmd',\n",
       " 'ct_flw_http_mthd',\n",
       " 'ct_src_ltm',\n",
       " 'ct_srv_dst',\n",
       " 'is_sm_ips_ports',\n",
       " 'attack_cat',\n",
       " 'Total Fwd Packets',\n",
       " 'Total Backward Packets',\n",
       " 'Total Length of Fwd Packets',\n",
       " 'Total Length of Bwd Packets',\n",
       " 'Fwd Packet Length Max',\n",
       " 'Fwd Packet Length Min',\n",
       " 'Fwd Packet Length Mean',\n",
       " 'Fwd Packet Length Std',\n",
       " 'Bwd Packet Length Max',\n",
       " 'Bwd Packet Length Min',\n",
       " 'Bwd Packet Length Mean',\n",
       " 'Bwd Packet Length Std',\n",
       " 'Flow Bytes/s',\n",
       " 'Flow Packets/s',\n",
       " 'Flow IAT Mean',\n",
       " 'Flow IAT Std',\n",
       " 'Flow IAT Max',\n",
       " 'Flow IAT Min',\n",
       " 'Fwd IAT Total',\n",
       " 'Fwd IAT Mean',\n",
       " 'Fwd IAT Std',\n",
       " 'Fwd IAT Max',\n",
       " 'Fwd IAT Min',\n",
       " 'Bwd IAT Total',\n",
       " 'Bwd IAT Mean',\n",
       " 'Bwd IAT Std',\n",
       " 'Bwd IAT Max',\n",
       " 'Bwd IAT Min',\n",
       " 'Fwd PSH Flags',\n",
       " 'Bwd PSH Flags',\n",
       " 'Fwd URG Flags',\n",
       " 'Bwd URG Flags',\n",
       " 'Fwd Header Length40',\n",
       " 'Bwd Header Length',\n",
       " 'Fwd Packets/s',\n",
       " 'Bwd Packets/s',\n",
       " 'Min Packet Length',\n",
       " 'Max Packet Length',\n",
       " 'Packet Length Mean',\n",
       " 'Packet Length Std',\n",
       " 'Packet Length Variance',\n",
       " 'FIN Flag Count',\n",
       " 'SYN Flag Count',\n",
       " 'RST Flag Count',\n",
       " 'PSH Flag Count',\n",
       " 'ACK Flag Count',\n",
       " 'URG Flag Count',\n",
       " 'CWE Flag Count',\n",
       " 'ECE Flag Count',\n",
       " 'Down/Up Ratio',\n",
       " 'Average Packet Size',\n",
       " 'Avg Fwd Segment Size',\n",
       " 'Avg Bwd Segment Size',\n",
       " 'Fwd Header Length61',\n",
       " 'Fwd Avg Bytes/Bulk',\n",
       " 'Fwd Avg Packets/Bulk',\n",
       " 'Fwd Avg Bulk Rate',\n",
       " 'Bwd Avg Bytes/Bulk',\n",
       " 'Bwd Avg Packets/Bulk',\n",
       " 'Bwd Avg Bulk Rate',\n",
       " 'Subflow Fwd Packets',\n",
       " 'Subflow Fwd Bytes',\n",
       " 'Subflow Bwd Packets',\n",
       " 'Subflow Bwd Bytes',\n",
       " 'Init_Win_bytes_forward',\n",
       " 'Init_Win_bytes_backward',\n",
       " 'act_data_pkt_fwd',\n",
       " 'min_seg_size_forward',\n",
       " 'Active Mean',\n",
       " 'Active Std',\n",
       " 'Active Max',\n",
       " 'Active Min',\n",
       " 'Idle Mean',\n",
       " 'Idle Std',\n",
       " 'Idle Max',\n",
       " 'Idle Min',\n",
       " 'taxonomy',\n",
       " 'heuristic',\n",
       " 'distance']"
      ]
     },
     "execution_count": 40,
     "metadata": {},
     "output_type": "execute_result"
    }
   ],
   "source": [
    "df_full.columns"
   ]
  },
  {
   "cell_type": "code",
   "execution_count": 41,
   "metadata": {},
   "outputs": [],
   "source": [
    "#df_full.groupBy('taxonomy').count().show(200)"
   ]
  },
  {
   "cell_type": "code",
   "execution_count": 42,
   "metadata": {},
   "outputs": [],
   "source": [
    "#df_full = df_full.filter(df_f ull['service'].isNotNull())"
   ]
  },
  {
   "cell_type": "code",
   "execution_count": 43,
   "metadata": {},
   "outputs": [
    {
     "data": {
      "text/plain": [
       "35040"
      ]
     },
     "execution_count": 43,
     "metadata": {},
     "output_type": "execute_result"
    }
   ],
   "source": [
    "df_full.count()"
   ]
  },
  {
   "cell_type": "code",
   "execution_count": 44,
   "metadata": {},
   "outputs": [
    {
     "data": {
      "text/plain": [
       "[('label', 'string'),\n",
       " ('Destination IP', 'string'),\n",
       " ('Source IP', 'string'),\n",
       " ('Source Port', 'int'),\n",
       " ('Destination Port', 'int'),\n",
       " ('duration', 'double'),\n",
       " ('Protocol', 'string'),\n",
       " ('service', 'string'),\n",
       " ('Source Bytes', 'int'),\n",
       " ('Destination Bytes', 'int'),\n",
       " ('flag', 'string'),\n",
       " ('land', 'int'),\n",
       " ('wrong_fragment', 'int'),\n",
       " ('urgent', 'int'),\n",
       " ('hot', 'int'),\n",
       " ('num_failed_logins', 'int'),\n",
       " ('logged_in', 'int'),\n",
       " ('lnum_compromised', 'int'),\n",
       " ('lroot_shell', 'int'),\n",
       " ('lsu_attempted', 'int'),\n",
       " ('lnum_root', 'int'),\n",
       " ('lnum_file_creations', 'int'),\n",
       " ('lnum_shells', 'int'),\n",
       " ('lnum_access_files', 'int'),\n",
       " ('lnum_outbound_cmds', 'int'),\n",
       " ('is_host_login', 'int'),\n",
       " ('is_guest_login', 'int'),\n",
       " ('count', 'int'),\n",
       " ('srv_count', 'int'),\n",
       " ('serror_rate', 'double'),\n",
       " ('srv_serror_rate', 'double'),\n",
       " ('rerror_rate', 'double'),\n",
       " ('srv_rerror_rate', 'double'),\n",
       " ('same_srv_rate', 'double'),\n",
       " ('diff_srv_rate', 'double'),\n",
       " ('srv_diff_host_rate', 'double'),\n",
       " ('dst_host_count', 'int'),\n",
       " ('dst_host_srv_count', 'int'),\n",
       " ('dst_host_same_srv_rate', 'double'),\n",
       " ('dst_host_diff_srv_rate', 'double'),\n",
       " ('dst_host_same_src_port_rate', 'double'),\n",
       " ('dst_host_srv_diff_host_rate', 'double'),\n",
       " ('dst_host_serror_rate', 'double'),\n",
       " ('dst_host_srv_serror_rate', 'double'),\n",
       " ('dst_host_rerror_rate', 'double'),\n",
       " ('dst_host_srv_rerror_rate', 'double'),\n",
       " ('state', 'string'),\n",
       " ('spkts', 'int'),\n",
       " ('dpkts', 'int'),\n",
       " ('rate', 'double'),\n",
       " ('sttl', 'int'),\n",
       " ('dttl', 'int'),\n",
       " ('sload', 'double'),\n",
       " ('dload', 'double'),\n",
       " ('sloss', 'int'),\n",
       " ('dloss', 'int'),\n",
       " ('sinpkt', 'double'),\n",
       " ('dinpkt', 'double'),\n",
       " ('sjit', 'double'),\n",
       " ('djit', 'double'),\n",
       " ('swin', 'int'),\n",
       " ('stcpb', 'bigint'),\n",
       " ('dtcpb', 'bigint'),\n",
       " ('dwin', 'int'),\n",
       " ('tcprtt', 'double'),\n",
       " ('synack', 'double'),\n",
       " ('ackdat', 'double'),\n",
       " ('smean', 'int'),\n",
       " ('dmean', 'int'),\n",
       " ('trans_depth', 'int'),\n",
       " ('response_body_len', 'int'),\n",
       " ('ct_srv_src', 'int'),\n",
       " ('ct_state_ttl', 'int'),\n",
       " ('ct_dst_ltm', 'int'),\n",
       " ('ct_dst_src_ltm', 'int'),\n",
       " ('is_ftp_login', 'int'),\n",
       " ('ct_ftp_cmd', 'int'),\n",
       " ('ct_flw_http_mthd', 'int'),\n",
       " ('ct_src_ltm', 'int'),\n",
       " ('ct_srv_dst', 'int'),\n",
       " ('is_sm_ips_ports', 'int'),\n",
       " ('attack_cat', 'string'),\n",
       " ('Total Fwd Packets', 'int'),\n",
       " ('Total Backward Packets', 'int'),\n",
       " ('Total Length of Fwd Packets', 'int'),\n",
       " ('Total Length of Bwd Packets', 'decimal(10,0)'),\n",
       " ('Fwd Packet Length Max', 'int'),\n",
       " ('Fwd Packet Length Min', 'int'),\n",
       " ('Fwd Packet Length Mean', 'double'),\n",
       " ('Fwd Packet Length Std', 'double'),\n",
       " ('Bwd Packet Length Max', 'int'),\n",
       " ('Bwd Packet Length Min', 'int'),\n",
       " ('Bwd Packet Length Mean', 'double'),\n",
       " ('Bwd Packet Length Std', 'double'),\n",
       " ('Flow Bytes/s', 'double'),\n",
       " ('Flow Packets/s', 'double'),\n",
       " ('Flow IAT Mean', 'double'),\n",
       " ('Flow IAT Std', 'decimal(10,0)'),\n",
       " ('Flow IAT Max', 'int'),\n",
       " ('Flow IAT Min', 'int'),\n",
       " ('Fwd IAT Total', 'decimal(10,0)'),\n",
       " ('Fwd IAT Mean', 'double'),\n",
       " ('Fwd IAT Std', 'double'),\n",
       " ('Fwd IAT Max', 'decimal(10,0)'),\n",
       " ('Fwd IAT Min', 'decimal(10,0)'),\n",
       " ('Bwd IAT Total', 'decimal(10,0)'),\n",
       " ('Bwd IAT Mean', 'double'),\n",
       " ('Bwd IAT Std', 'double'),\n",
       " ('Bwd IAT Max', 'decimal(10,0)'),\n",
       " ('Bwd IAT Min', 'decimal(10,0)'),\n",
       " ('Fwd PSH Flags', 'int'),\n",
       " ('Bwd PSH Flags', 'int'),\n",
       " ('Fwd URG Flags', 'int'),\n",
       " ('Bwd URG Flags', 'int'),\n",
       " ('Fwd Header Length40', 'int'),\n",
       " ('Bwd Header Length', 'int'),\n",
       " ('Fwd Packets/s', 'double'),\n",
       " ('Bwd Packets/s', 'double'),\n",
       " ('Min Packet Length', 'int'),\n",
       " ('Max Packet Length', 'int'),\n",
       " ('Packet Length Mean', 'double'),\n",
       " ('Packet Length Std', 'double'),\n",
       " ('Packet Length Variance', 'double'),\n",
       " ('FIN Flag Count', 'int'),\n",
       " ('SYN Flag Count', 'int'),\n",
       " ('RST Flag Count', 'int'),\n",
       " ('PSH Flag Count', 'int'),\n",
       " ('ACK Flag Count', 'int'),\n",
       " ('URG Flag Count', 'int'),\n",
       " ('CWE Flag Count', 'int'),\n",
       " ('ECE Flag Count', 'int'),\n",
       " ('Down/Up Ratio', 'int'),\n",
       " ('Average Packet Size', 'double'),\n",
       " ('Avg Fwd Segment Size', 'double'),\n",
       " ('Avg Bwd Segment Size', 'double'),\n",
       " ('Fwd Header Length61', 'int'),\n",
       " ('Fwd Avg Bytes/Bulk', 'int'),\n",
       " ('Fwd Avg Packets/Bulk', 'int'),\n",
       " ('Fwd Avg Bulk Rate', 'int'),\n",
       " ('Bwd Avg Bytes/Bulk', 'int'),\n",
       " ('Bwd Avg Packets/Bulk', 'int'),\n",
       " ('Bwd Avg Bulk Rate', 'int'),\n",
       " ('Subflow Fwd Packets', 'int'),\n",
       " ('Subflow Fwd Bytes', 'int'),\n",
       " ('Subflow Bwd Packets', 'int'),\n",
       " ('Subflow Bwd Bytes', 'int'),\n",
       " ('Init_Win_bytes_forward', 'int'),\n",
       " ('Init_Win_bytes_backward', 'int'),\n",
       " ('act_data_pkt_fwd', 'int'),\n",
       " ('min_seg_size_forward', 'int'),\n",
       " ('Active Mean', 'double'),\n",
       " ('Active Std', 'double'),\n",
       " ('Active Max', 'decimal(10,0)'),\n",
       " ('Active Min', 'decimal(10,0)'),\n",
       " ('Idle Mean', 'double'),\n",
       " ('Idle Std', 'double'),\n",
       " ('Idle Max', 'decimal(10,0)'),\n",
       " ('Idle Min', 'decimal(10,0)'),\n",
       " ('taxonomy', 'string'),\n",
       " ('heuristic', 'double'),\n",
       " ('distance', 'int')]"
      ]
     },
     "execution_count": 44,
     "metadata": {},
     "output_type": "execute_result"
    }
   ],
   "source": [
    "df_full.dtypes"
   ]
  },
  {
   "cell_type": "code",
   "execution_count": 45,
   "metadata": {},
   "outputs": [],
   "source": [
    "df_full = df_full.na.fill({'Source Port' :0,\n",
    "'Destination Port' :0,\n",
    "'duration' :0,\n",
    "'Source Bytes' :0,\n",
    "'Destination Bytes' :0,\n",
    "'land' :0,\n",
    "'wrong_fragment' :0,\n",
    "'urgent' :0,\n",
    "'hot' :0,\n",
    "'num_failed_logins' :0,\n",
    "'logged_in' :0,\n",
    "'lnum_compromised' :0,\n",
    "'lroot_shell' :0,\n",
    "'lsu_attempted' :0,\n",
    "'lnum_root' :0,\n",
    "'lnum_file_creations' :0,\n",
    "'lnum_shells' :0,\n",
    "'lnum_access_files' :0,\n",
    "'lnum_outbound_cmds' :0,\n",
    "'is_host_login' :0,\n",
    "'is_guest_login' :0,\n",
    "'count' :0,\n",
    "'srv_count' :0,\n",
    "'serror_rate' :0,\n",
    "'srv_serror_rate' :0,\n",
    "'rerror_rate' :0,\n",
    "'srv_rerror_rate' :0,\n",
    "'same_srv_rate' :0,\n",
    "'diff_srv_rate' :0,\n",
    "'srv_diff_host_rate' :0,\n",
    "'dst_host_count' :0,\n",
    "'dst_host_srv_count' :0,\n",
    "'dst_host_same_srv_rate' :0,\n",
    "'dst_host_diff_srv_rate' :0,\n",
    "'dst_host_same_src_port_rate' :0,\n",
    "'dst_host_srv_diff_host_rate' :0,\n",
    "'dst_host_serror_rate' :0,\n",
    "'dst_host_srv_serror_rate' :0,\n",
    "'dst_host_rerror_rate' :0,\n",
    "'dst_host_srv_rerror_rate' :0,\n",
    "'spkts' :0,\n",
    "'dpkts' :0,\n",
    "'rate' :0,\n",
    "'sttl' :0,\n",
    "'dttl' :0,\n",
    "'sload' :0,\n",
    "'dload' :0,\n",
    "'sloss' :0,\n",
    "'dloss' :0,\n",
    "'sinpkt' :0,\n",
    "'dinpkt' :0,\n",
    "'sjit' :0,\n",
    "'djit' :0,\n",
    "'swin' :0,\n",
    "'stcpb' :0,\n",
    "'dtcpb' :0,\n",
    "'dwin' :0,\n",
    "'tcprtt' :0,\n",
    "'synack' :0,\n",
    "'ackdat' :0,\n",
    "'smean' :0,\n",
    "'dmean' :0,\n",
    "'trans_depth' :0,\n",
    "'response_body_len' :0,\n",
    "'ct_srv_src' :0,\n",
    "'ct_state_ttl' :0,\n",
    "'ct_dst_ltm' :0,\n",
    "'ct_dst_src_ltm' :0,\n",
    "'is_ftp_login' :0,\n",
    "'ct_ftp_cmd' :0,\n",
    "'ct_flw_http_mthd' :0,\n",
    "'ct_src_ltm' :0,\n",
    "'ct_srv_dst' :0,\n",
    "'is_sm_ips_ports' :0,\n",
    "'Total Fwd Packets' :0,\n",
    "'Total Backward Packets' :0,\n",
    "'Total Length of Fwd Packets' :0,\n",
    "'Total Length of Bwd Packets' :0,\n",
    "'Fwd Packet Length Max' :0,\n",
    "'Fwd Packet Length Min' :0,\n",
    "'Fwd Packet Length Mean' :0,\n",
    "'Fwd Packet Length Std' :0,\n",
    "'Bwd Packet Length Max' :0,\n",
    "'Bwd Packet Length Min' :0,\n",
    "'Bwd Packet Length Mean' :0,\n",
    "'Bwd Packet Length Std' :0,\n",
    "'Flow Bytes/s' :0,\n",
    "'Flow Packets/s' :0,\n",
    "'Flow IAT Mean' :0,\n",
    "'Flow IAT Std' :0,\n",
    "'Flow IAT Max' :0,\n",
    "'Flow IAT Min' :0,\n",
    "'Fwd IAT Total' :0,\n",
    "'Fwd IAT Mean' :0,\n",
    "'Fwd IAT Std' :0,\n",
    "'Fwd IAT Max' :0,\n",
    "'Fwd IAT Min' :0,\n",
    "'Bwd IAT Total' :0,\n",
    "'Bwd IAT Mean' :0,\n",
    "'Bwd IAT Std' :0,\n",
    "'Bwd IAT Max' :0,\n",
    "'Bwd IAT Min' :0,\n",
    "'Fwd PSH Flags' :0,\n",
    "'Bwd PSH Flags' :0,\n",
    "'Fwd URG Flags' :0,\n",
    "'Bwd URG Flags' :0,\n",
    "'Fwd Header Length40' :0,\n",
    "'Bwd Header Length' :0,\n",
    "'Fwd Packets/s' :0,\n",
    "'Bwd Packets/s' :0,\n",
    "'Min Packet Length' :0,\n",
    "'Max Packet Length' :0,\n",
    "'Packet Length Mean' :0,\n",
    "'Packet Length Std' :0,\n",
    "'Packet Length Variance' :0,\n",
    "'FIN Flag Count' :0,\n",
    "'SYN Flag Count' :0,\n",
    "'RST Flag Count' :0,\n",
    "'PSH Flag Count' :0,\n",
    "'ACK Flag Count' :0,\n",
    "'URG Flag Count' :0,\n",
    "'CWE Flag Count' :0,\n",
    "'ECE Flag Count' :0,\n",
    "'Down/Up Ratio' :0,\n",
    "'Average Packet Size' :0,\n",
    "'Avg Fwd Segment Size' :0,\n",
    "'Avg Bwd Segment Size' :0,\n",
    "'Fwd Header Length61' :0,\n",
    "'Fwd Avg Bytes/Bulk' :0,\n",
    "'Fwd Avg Packets/Bulk' :0,\n",
    "'Fwd Avg Bulk Rate' :0,\n",
    "'Bwd Avg Bytes/Bulk' :0,\n",
    "'Bwd Avg Packets/Bulk' :0,\n",
    "'Bwd Avg Bulk Rate' :0,\n",
    "'Subflow Fwd Packets' :0,\n",
    "'Subflow Fwd Bytes' :0,\n",
    "'Subflow Bwd Packets' :0,\n",
    "'Subflow Bwd Bytes' :0,\n",
    "'Init_Win_bytes_forward' :0,\n",
    "'Init_Win_bytes_backward' :0,\n",
    "'act_data_pkt_fwd' :0,\n",
    "'min_seg_size_forward' :0,\n",
    "'Active Mean' :0,\n",
    "'Active Std' :0,\n",
    "'Active Max' :0,\n",
    "'Active Min' :0,\n",
    "'Idle Mean' :0,\n",
    "'Idle Std' :0,\n",
    "'Idle Max' :0,\n",
    "'Idle Min' :0,\n",
    "'heuristic' :0,\n",
    "'distance' :0})"
   ]
  },
  {
   "cell_type": "code",
   "execution_count": 46,
   "metadata": {},
   "outputs": [],
   "source": [
    "df_full = df_full.na.fill({'label': '0', 'service': 'null' ,'Protocol' : 'null','flag': 'null','Destination IP': 'null','Source IP': 'null','state': 'null','attack_cat': 'null','taxonomy': 'null'})"
   ]
  },
  {
   "cell_type": "code",
   "execution_count": null,
   "metadata": {},
   "outputs": [],
   "source": []
  },
  {
   "cell_type": "code",
   "execution_count": 47,
   "metadata": {},
   "outputs": [
    {
     "data": {
      "text/plain": [
       "StringIndexer_45208742a5fcdb6ce1ed"
      ]
     },
     "execution_count": 47,
     "metadata": {},
     "output_type": "execute_result"
    }
   ],
   "source": [
    "LabelIndexer = StringIndexer().setInputCol(\"label\").setOutputCol(\"Label_ix\")\n",
    "LabelIndexer.setHandleInvalid(\"keep\")"
   ]
  },
  {
   "cell_type": "code",
   "execution_count": 48,
   "metadata": {},
   "outputs": [],
   "source": [
    "TaxIndexer = StringIndexer(inputCol='taxonomy', outputCol='taxonomy_ix').setHandleInvalid(\"keep\")\n",
    "SrcIndexer = StringIndexer(inputCol='Source IP', outputCol='Source_IP_ix').setHandleInvalid(\"keep\")\n",
    "ProtoIndexer = StringIndexer(inputCol='Protocol', outputCol='Protocol_ix').setHandleInvalid(\"keep\")\n",
    "ServIndexer = StringIndexer(inputCol='service', outputCol='service_ix').setHandleInvalid(\"keep\")\n",
    "flagIndexer = StringIndexer(inputCol='flag', outputCol='flag_ix').setHandleInvalid(\"keep\")\n",
    "statIndexer = StringIndexer(inputCol='state', outputCol='state_ix').setHandleInvalid(\"keep\")\n",
    "atkIndexer = StringIndexer(inputCol='attack_cat', outputCol='attack_cat_ix').setHandleInvalid(\"keep\")\n",
    "destIndexer = StringIndexer(inputCol='Destination IP', outputCol='Destination_IP_ix').setHandleInvalid(\"keep\")"
   ]
  },
  {
   "cell_type": "code",
   "execution_count": 53,
   "metadata": {},
   "outputs": [],
   "source": [
    "output_fixed = LabelIndexer.fit(df_full).transform(df_full)"
   ]
  },
  {
   "cell_type": "code",
   "execution_count": 54,
   "metadata": {},
   "outputs": [],
   "source": [
    "output_fixed1 = TaxIndexer.fit(output_fixed).transform(output_fixed)\n",
    "output_fixed2 = SrcIndexer.fit(output_fixed1).transform(output_fixed1)\n",
    "output_fixed3 = ProtoIndexer.fit(output_fixed2).transform(output_fixed2)\n",
    "output_fixed4 = ServIndexer.fit(output_fixed3).transform(output_fixed3)\n",
    "output_fixed5 = flagIndexer.fit(output_fixed4).transform(output_fixed4)\n",
    "output_fixed6 = statIndexer.fit(output_fixed5).transform(output_fixed5)\n",
    "output_fixed7 = atkIndexer.fit(output_fixed6).transform(output_fixed6)\n",
    "output_fixed8 = destIndexer.fit(output_fixed7).transform(output_fixed7)"
   ]
  },
  {
   "cell_type": "code",
   "execution_count": 105,
   "metadata": {},
   "outputs": [],
   "source": [
    "#output_fixed8.write.csv('/finalMerge_Indexed.csv',header=True)"
   ]
  },
  {
   "cell_type": "markdown",
   "metadata": {
    "scrolled": true
   },
   "source": [
    "df_full = StringIndexer(inputCol='label', outputCol='Label_ix').fit(df_full).transform(df_full).setHandleInvalid(\"keep\")\n",
    "df_full = StringIndexer(inputCol='Destination IP', outputCol='Destination_IP_ix').fit(df_full).transform(df_full).setHandleInvalid(\"keep\")\n",
    "df_full = StringIndexer(inputCol='Source IP', outputCol='Source_IP_ix').fit(df_full).transform(df_full).setHandleInvalid(\"keep\")\n",
    "df_full = StringIndexer(inputCol='Protocol', outputCol='Protocol_ix').fit(df_full).transform(df_full).setHandleInvalid(\"keep\")\n",
    "df_full = StringIndexer(inputCol='service', outputCol='service_ix').fit(df_full).transform(df_full).setHandleInvalid(\"keep\")\n",
    "df_full = StringIndexer(inputCol='flag', outputCol='flag_ix').fit(df_full).transform(df_full).setHandleInvalid(\"keep\")\n",
    "df_full = StringIndexer(inputCol='state', outputCol='state_ix').fit(df_full).transform(df_full).setHandleInvalid(\"keep\")\n",
    "df_full = StringIndexer(inputCol='attack_cat', outputCol='attack_cat_ix').fit(df_full).transform(df_full).setHandleInvalid(\"keep\")\n",
    "df_full = StringIndexer(inputCol='taxonomy', outputCol='taxonomy_ix').fit(df_full).transform(df_full).setHandleInvalid(\"keep\")"
   ]
  },
  {
   "cell_type": "code",
   "execution_count": 55,
   "metadata": {},
   "outputs": [],
   "source": [
    "inputCols = ['Source Port',\n",
    "'Destination Port',\n",
    "'duration',\n",
    "'Source Bytes',\n",
    "'Destination Bytes',\n",
    "'land',\n",
    "'wrong_fragment',\n",
    "'urgent',\n",
    "'hot',\n",
    "'num_failed_logins',\n",
    "'logged_in',\n",
    "'lnum_compromised',\n",
    "'lroot_shell',\n",
    "'lsu_attempted',\n",
    "'lnum_root',\n",
    "'lnum_file_creations',\n",
    "'lnum_shells',\n",
    "'lnum_access_files',\n",
    "'lnum_outbound_cmds',\n",
    "'is_host_login',\n",
    "'is_guest_login',\n",
    "'count',\n",
    "'srv_count',\n",
    "'serror_rate',\n",
    "'srv_serror_rate',\n",
    "'rerror_rate',\n",
    "'srv_rerror_rate',\n",
    "'same_srv_rate',\n",
    "'diff_srv_rate',\n",
    "'srv_diff_host_rate',\n",
    "'dst_host_count',\n",
    "'dst_host_srv_count',\n",
    "'dst_host_same_srv_rate',\n",
    "'dst_host_diff_srv_rate',\n",
    "'dst_host_same_src_port_rate',\n",
    "'dst_host_srv_diff_host_rate',\n",
    "'dst_host_serror_rate',\n",
    "'dst_host_srv_serror_rate',\n",
    "'dst_host_rerror_rate',\n",
    "'dst_host_srv_rerror_rate',\n",
    "'spkts',\n",
    "'dpkts',\n",
    "'rate',\n",
    "'sttl',\n",
    "'dttl',\n",
    "'sload',\n",
    "'dload',\n",
    "'sloss',\n",
    "'dloss',\n",
    "'sinpkt',\n",
    "'dinpkt',\n",
    "'sjit',\n",
    "'djit',\n",
    "'swin',\n",
    "'stcpb',\n",
    "'dtcpb',\n",
    "'dwin',\n",
    "'tcprtt',\n",
    "'synack',\n",
    "'ackdat',\n",
    "'smean',\n",
    "'dmean',\n",
    "'trans_depth',\n",
    "'response_body_len',\n",
    "'ct_srv_src',\n",
    "'ct_state_ttl',\n",
    "'ct_dst_ltm',\n",
    "'ct_dst_src_ltm',\n",
    "'is_ftp_login',\n",
    "'ct_ftp_cmd',\n",
    "'ct_flw_http_mthd',\n",
    "'ct_src_ltm',\n",
    "'ct_srv_dst',\n",
    "'is_sm_ips_ports',\n",
    "'Total Fwd Packets',\n",
    "'Total Backward Packets',\n",
    "'Total Length of Fwd Packets',\n",
    "'Total Length of Bwd Packets',\n",
    "'Fwd Packet Length Max',\n",
    "'Fwd Packet Length Min',\n",
    "'Fwd Packet Length Mean',\n",
    "'Fwd Packet Length Std',\n",
    "'Bwd Packet Length Max',\n",
    "'Bwd Packet Length Min',\n",
    "'Bwd Packet Length Mean',\n",
    "'Bwd Packet Length Std',\n",
    "'Flow Bytes/s',\n",
    "'Flow Packets/s',\n",
    "'Flow IAT Mean',\n",
    "'Flow IAT Std',\n",
    "'Flow IAT Max',\n",
    "'Flow IAT Min',\n",
    "'Fwd IAT Total',\n",
    "'Fwd IAT Mean',\n",
    "'Fwd IAT Std',\n",
    "'Fwd IAT Max',\n",
    "'Fwd IAT Min',\n",
    "'Bwd IAT Total',\n",
    "'Bwd IAT Mean',\n",
    "'Bwd IAT Std',\n",
    "'Bwd IAT Max',\n",
    "'Bwd IAT Min',\n",
    "'Fwd PSH Flags',\n",
    "'Bwd PSH Flags',\n",
    "'Fwd URG Flags',\n",
    "'Bwd URG Flags',\n",
    "'Fwd Header Length40',\n",
    "'Bwd Header Length',\n",
    "'Fwd Packets/s',\n",
    "'Bwd Packets/s',\n",
    "'Min Packet Length',\n",
    "'Max Packet Length',\n",
    "'Packet Length Mean',\n",
    "'Packet Length Std',\n",
    "'Packet Length Variance',\n",
    "'FIN Flag Count',\n",
    "'SYN Flag Count',\n",
    "'RST Flag Count',\n",
    "'PSH Flag Count',\n",
    "'ACK Flag Count',\n",
    "'URG Flag Count',\n",
    "'CWE Flag Count',\n",
    "'ECE Flag Count',\n",
    "'Down/Up Ratio',\n",
    "'Average Packet Size',\n",
    "'Avg Fwd Segment Size',\n",
    "'Avg Bwd Segment Size',\n",
    "'Fwd Header Length61',\n",
    "'Fwd Avg Bytes/Bulk',\n",
    "'Fwd Avg Packets/Bulk',\n",
    "'Fwd Avg Bulk Rate',\n",
    "'Bwd Avg Bytes/Bulk',\n",
    "'Bwd Avg Packets/Bulk',\n",
    "'Bwd Avg Bulk Rate',\n",
    "'Subflow Fwd Packets',\n",
    "'Subflow Fwd Bytes',\n",
    "'Subflow Bwd Packets',\n",
    "'Subflow Bwd Bytes',\n",
    "'Init_Win_bytes_forward',\n",
    "'Init_Win_bytes_backward',\n",
    "'act_data_pkt_fwd',\n",
    "'min_seg_size_forward',\n",
    "'Active Mean',\n",
    "'Active Std',\n",
    "'Active Max',\n",
    "'Active Min',\n",
    "'Idle Mean',\n",
    "'Idle Std',\n",
    "'Idle Max',\n",
    "'Idle Min',\n",
    "'heuristic',\n",
    "'distance',\n",
    "'taxonomy_ix',\n",
    "'Source_IP_ix',\n",
    "'Protocol_ix',\n",
    "'service_ix',\n",
    "'flag_ix',\n",
    "'state_ix',\n",
    "'attack_cat_ix',\n",
    "'Destination_IP_ix']"
   ]
  },
  {
   "cell_type": "code",
   "execution_count": 56,
   "metadata": {},
   "outputs": [],
   "source": [
    "assembler = VectorAssembler(inputCols=inputCols, outputCol='features')"
   ]
  },
  {
   "cell_type": "code",
   "execution_count": 57,
   "metadata": {},
   "outputs": [
    {
     "data": {
      "text/plain": [
       "35040"
      ]
     },
     "execution_count": 57,
     "metadata": {},
     "output_type": "execute_result"
    }
   ],
   "source": [
    "output_fixed8.count()"
   ]
  },
  {
   "cell_type": "code",
   "execution_count": 58,
   "metadata": {},
   "outputs": [],
   "source": [
    "final_data = assembler.transform(output_fixed8).select('label','Label_ix','features')"
   ]
  },
  {
   "cell_type": "code",
   "execution_count": 145,
   "metadata": {},
   "outputs": [],
   "source": [
    "#final_data.write.json('C:/Users/Mounir Hafsa/Desktop/bases/Sample Join/Final_Data_Features.json')"
   ]
  },
  {
   "cell_type": "code",
   "execution_count": 59,
   "metadata": {},
   "outputs": [
    {
     "name": "stdout",
     "output_type": "stream",
     "text": [
      "Nombre Instances dans TRAIN_DATA  24492\n",
      "Nombre Instances dans Test_DATA  10548\n"
     ]
    },
    {
     "data": {
      "text/plain": [
       "DataFrame[label: string, Label_ix: double, features: vector]"
      ]
     },
     "execution_count": 59,
     "metadata": {},
     "output_type": "execute_result"
    }
   ],
   "source": [
    "train_data,test_data = final_data.randomSplit([0.7,0.3],seed = 1000)\n",
    "print(\"Nombre Instances dans TRAIN_DATA \",train_data.count())\n",
    "train_data.cache()\n",
    "print(\"Nombre Instances dans Test_DATA \",test_data.count())\n",
    "test_data.cache()"
   ]
  },
  {
   "cell_type": "code",
   "execution_count": 60,
   "metadata": {},
   "outputs": [],
   "source": [
    "model_nb = NaiveBayes(labelCol='Label_ix', featuresCol='features')\n",
    "model_dt = DecisionTreeClassifier(labelCol='Label_ix', featuresCol='features',maxBins=11000)\n",
    "model_rf = RandomForestClassifier(labelCol='Label_ix', featuresCol='features',maxBins=11000)\n",
    "model_svm = LinearSVC(labelCol='Label_ix', featuresCol='features')"
   ]
  },
  {
   "cell_type": "code",
   "execution_count": 61,
   "metadata": {},
   "outputs": [],
   "source": [
    "pipeline = Pipeline(stages=[LabelIndexer,TaxIndexer,SrcIndexer,ProtoIndexer,ServIndexer,flagIndexer,statIndexer,atkIndexer,destIndexer, assembler, model_dt])"
   ]
  },
  {
   "cell_type": "code",
   "execution_count": 62,
   "metadata": {},
   "outputs": [],
   "source": [
    "model = pipeline.fit(df_full)"
   ]
  },
  {
   "cell_type": "code",
   "execution_count": 69,
   "metadata": {},
   "outputs": [],
   "source": [
    "model.save(\"/Joined_Model\")"
   ]
  },
  {
   "cell_type": "code",
   "execution_count": 63,
   "metadata": {},
   "outputs": [],
   "source": [
    "predictions = model.transform(df_full)"
   ]
  },
  {
   "cell_type": "code",
   "execution_count": 67,
   "metadata": {},
   "outputs": [],
   "source": [
    "evaluator = MulticlassClassificationEvaluator(labelCol=\"Label_ix\",predictionCol=\"prediction\",metricName=\"accuracy\")"
   ]
  },
  {
   "cell_type": "code",
   "execution_count": 68,
   "metadata": {},
   "outputs": [
    {
     "data": {
      "text/plain": [
       "0.9998858447488584"
      ]
     },
     "execution_count": 68,
     "metadata": {},
     "output_type": "execute_result"
    }
   ],
   "source": [
    "evaluator.evaluate(predictions)"
   ]
  },
  {
   "cell_type": "code",
   "execution_count": 124,
   "metadata": {},
   "outputs": [
    {
     "name": "stdout",
     "output_type": "stream",
     "text": [
      "Training ..\n",
      "NaiveBayes..DONE ..\n"
     ]
    }
   ],
   "source": [
    "print(\"Training ..\")\n",
    "#NB_Model = model_nb.fit(train_data)\n",
    "print(\"NaiveBayes..DONE ..\")"
   ]
  },
  {
   "cell_type": "code",
   "execution_count": 148,
   "metadata": {},
   "outputs": [
    {
     "name": "stdout",
     "output_type": "stream",
     "text": [
      "Training ..\n",
      "Decision Tree..DONE ..\n"
     ]
    }
   ],
   "source": [
    "print(\"Training ..\")\n",
    "Dt_Model = model_dt.fit(train_data)\n",
    "print(\"Decision Tree..DONE ..\")"
   ]
  },
  {
   "cell_type": "code",
   "execution_count": 149,
   "metadata": {},
   "outputs": [
    {
     "name": "stdout",
     "output_type": "stream",
     "text": [
      "Training ..\n",
      "Random Forest..DONE ..\n"
     ]
    }
   ],
   "source": [
    "print(\"Training ..\")\n",
    "Rf_Model = model_rf.fit(train_data)\n",
    "print(\"Random Forest..DONE ..\")"
   ]
  },
  {
   "cell_type": "code",
   "execution_count": 123,
   "metadata": {},
   "outputs": [
    {
     "name": "stdout",
     "output_type": "stream",
     "text": [
      "Training ..\n",
      "SVM..DONE ..\n"
     ]
    }
   ],
   "source": [
    "print(\"Training ..\")\n",
    "#Svm_Model = model_svm.fit(train_data)\n",
    "print(\"SVM..DONE ..\")"
   ]
  },
  {
   "cell_type": "code",
   "execution_count": 150,
   "metadata": {},
   "outputs": [
    {
     "name": "stdout",
     "output_type": "stream",
     "text": [
      "Classifiying..\n",
      "C'est bon !\n"
     ]
    }
   ],
   "source": [
    "print (\"Classifiying..\")\n",
    "Random_predict = Rf_Model.transform(test_data)\n",
    "print (\"C'est bon !\")"
   ]
  },
  {
   "cell_type": "code",
   "execution_count": 151,
   "metadata": {},
   "outputs": [
    {
     "name": "stdout",
     "output_type": "stream",
     "text": [
      "C'est bon !\n",
      "Classifiying..\n"
     ]
    }
   ],
   "source": [
    "print (\"C'est bon !\")\n",
    "Decision_predict = Dt_Model.transform(test_data)\n",
    "print (\"Classifiying..\")"
   ]
  },
  {
   "cell_type": "code",
   "execution_count": 152,
   "metadata": {},
   "outputs": [],
   "source": [
    "acc_evaluator = MulticlassClassificationEvaluator(labelCol=\"Label_ix\", predictionCol=\"prediction\", metricName=\"accuracy\")"
   ]
  },
  {
   "cell_type": "code",
   "execution_count": 153,
   "metadata": {},
   "outputs": [
    {
     "name": "stdout",
     "output_type": "stream",
     "text": [
      "A random forest had an accuracy of: 89.49%\n"
     ]
    }
   ],
   "source": [
    "rfc_acc = acc_evaluator.evaluate(Random_predict)\n",
    "print('A random forest had an accuracy of: {0:2.2f}%'.format(rfc_acc*100))"
   ]
  },
  {
   "cell_type": "code",
   "execution_count": 154,
   "metadata": {},
   "outputs": [
    {
     "name": "stdout",
     "output_type": "stream",
     "text": [
      "A Decision Tree had an accuracy of: 100.00%\n"
     ]
    }
   ],
   "source": [
    "dt_acc = acc_evaluator.evaluate(Decision_predict)\n",
    "print('A Decision Tree had an accuracy of: {0:2.2f}%'.format(dt_acc*100))"
   ]
  },
  {
   "cell_type": "code",
   "execution_count": 155,
   "metadata": {},
   "outputs": [
    {
     "name": "stdout",
     "output_type": "stream",
     "text": [
      "root\n",
      " |-- label: string (nullable = false)\n",
      " |-- Label_ix: double (nullable = false)\n",
      " |-- features: vector (nullable = true)\n",
      " |-- rawPrediction: vector (nullable = true)\n",
      " |-- probability: vector (nullable = true)\n",
      " |-- prediction: double (nullable = false)\n",
      "\n"
     ]
    }
   ],
   "source": [
    "Decision_predict.printSchema()"
   ]
  },
  {
   "cell_type": "code",
   "execution_count": 156,
   "metadata": {},
   "outputs": [
    {
     "name": "stdout",
     "output_type": "stream",
     "text": [
      "+----------+--------+----------+\n",
      "|     label|Label_ix|prediction|\n",
      "+----------+--------+----------+\n",
      "|    BENIGN|     4.0|       4.0|\n",
      "|    BENIGN|     4.0|       4.0|\n",
      "| anomalous|     1.0|       1.0|\n",
      "| anomalous|     1.0|       1.0|\n",
      "| anomalous|     1.0|       1.0|\n",
      "| anomalous|     1.0|       1.0|\n",
      "| anomalous|     1.0|       1.0|\n",
      "| anomalous|     1.0|       1.0|\n",
      "| anomalous|     1.0|       1.0|\n",
      "| anomalous|     1.0|       1.0|\n",
      "| anomalous|     1.0|       1.0|\n",
      "| anomalous|     1.0|       1.0|\n",
      "| anomalous|     1.0|       1.0|\n",
      "| anomalous|     1.0|       1.0|\n",
      "| anomalous|     1.0|       1.0|\n",
      "| anomalous|     1.0|       1.0|\n",
      "| anomalous|     1.0|       1.0|\n",
      "| anomalous|     1.0|       1.0|\n",
      "| anomalous|     1.0|       1.0|\n",
      "| anomalous|     1.0|       1.0|\n",
      "| anomalous|     1.0|       1.0|\n",
      "| anomalous|     1.0|       1.0|\n",
      "| anomalous|     1.0|       1.0|\n",
      "|suspicious|     0.0|       0.0|\n",
      "|suspicious|     0.0|       0.0|\n",
      "|suspicious|     0.0|       0.0|\n",
      "|suspicious|     0.0|       0.0|\n",
      "|suspicious|     0.0|       0.0|\n",
      "|suspicious|     0.0|       0.0|\n",
      "|suspicious|     0.0|       0.0|\n",
      "|suspicious|     0.0|       0.0|\n",
      "|suspicious|     0.0|       0.0|\n",
      "|suspicious|     0.0|       0.0|\n",
      "|suspicious|     0.0|       0.0|\n",
      "|suspicious|     0.0|       0.0|\n",
      "|         1|     2.0|       2.0|\n",
      "|         1|     2.0|       2.0|\n",
      "|         1|     2.0|       2.0|\n",
      "|    BENIGN|     4.0|       4.0|\n",
      "|    BENIGN|     4.0|       4.0|\n",
      "|    BENIGN|     4.0|       4.0|\n",
      "|    BENIGN|     4.0|       4.0|\n",
      "|    BENIGN|     4.0|       4.0|\n",
      "| anomalous|     1.0|       1.0|\n",
      "| anomalous|     1.0|       1.0|\n",
      "| anomalous|     1.0|       1.0|\n",
      "| anomalous|     1.0|       1.0|\n",
      "| anomalous|     1.0|       1.0|\n",
      "| anomalous|     1.0|       1.0|\n",
      "| anomalous|     1.0|       1.0|\n",
      "+----------+--------+----------+\n",
      "only showing top 50 rows\n",
      "\n"
     ]
    }
   ],
   "source": [
    "Decision_predict.select(['label','Label_ix','prediction']).show(50)"
   ]
  },
  {
   "cell_type": "code",
   "execution_count": 157,
   "metadata": {},
   "outputs": [],
   "source": [
    "Decision_predict.write.json('/final_data_prediction.json')"
   ]
  },
  {
   "cell_type": "code",
   "execution_count": 159,
   "metadata": {},
   "outputs": [
    {
     "data": {
      "text/plain": [
       "DataFrame[label: string, duration: double, Protocol: string, service: string, Source Bytes: int, Destination Bytes: int, flag: string, land: int, wrong_fragment: int, urgent: int, hot: int, num_failed_logins: int, logged_in: int, lnum_compromised: int, lroot_shell: int, lsu_attempted: int, lnum_root: int, lnum_file_creations: int, lnum_shells: int, lnum_access_files: int, lnum_outbound_cmds: int, is_host_login: int, is_guest_login: int, count: int, srv_count: int, serror_rate: double, srv_serror_rate: double, rerror_rate: double, srv_rerror_rate: double, same_srv_rate: double, diff_srv_rate: double, srv_diff_host_rate: double, dst_host_count: int, dst_host_srv_count: int, dst_host_same_srv_rate: double, dst_host_diff_srv_rate: double, dst_host_same_src_port_rate: double, dst_host_srv_diff_host_rate: double, dst_host_serror_rate: double, dst_host_srv_serror_rate: double, dst_host_rerror_rate: double, dst_host_srv_rerror_rate: double, state: string, spkts: int, dpkts: int, rate: double, sttl: int, dttl: int, sload: double, dload: double, sloss: int, dloss: int, sinpkt: double, dinpkt: double, sjit: double, djit: double, swin: int, stcpb: bigint, dtcpb: bigint, dwin: int, tcprtt: double, synack: double, ackdat: double, smean: int, dmean: int, trans_depth: int, response_body_len: int, ct_srv_src: int, ct_state_ttl: int, ct_dst_ltm: int, Source Port: int, Destination Port: int, ct_dst_src_ltm: int, is_ftp_login: int, ct_ftp_cmd: int, ct_flw_http_mthd: int, ct_src_ltm: int, ct_srv_dst: int, is_sm_ips_ports: int, attack_cat: string]"
      ]
     },
     "execution_count": 159,
     "metadata": {},
     "output_type": "execute_result"
    }
   ],
   "source": [
    "train_data.unpersist()\n",
    "test_data.unpersist()\n",
    "df_full.unpersist()\n",
    "df_kdmwun.unpersist()\n",
    "df_joined.unpersist()"
   ]
  },
  {
   "cell_type": "code",
   "execution_count": 160,
   "metadata": {},
   "outputs": [],
   "source": [
    "spark.stop()"
   ]
  },
  {
   "cell_type": "code",
   "execution_count": null,
   "metadata": {},
   "outputs": [],
   "source": []
  }
 ],
 "metadata": {
  "kernelspec": {
   "display_name": "Python 3",
   "language": "python",
   "name": "python3"
  },
  "language_info": {
   "codemirror_mode": {
    "name": "ipython",
    "version": 3
   },
   "file_extension": ".py",
   "mimetype": "text/x-python",
   "name": "python",
   "nbconvert_exporter": "python",
   "pygments_lexer": "ipython3",
   "version": "3.6.4"
  }
 },
 "nbformat": 4,
 "nbformat_minor": 2
}
